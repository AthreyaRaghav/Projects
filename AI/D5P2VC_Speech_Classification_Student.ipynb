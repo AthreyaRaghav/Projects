{
  "cells": [
    {
      "cell_type": "markdown",
      "source": [
        "# **Speaker Classification using Pitch and MFCCs**\n",
        "\n",
        "Harvard AI Bootcamp"
      ],
      "metadata": {
        "id": "zh1wo0xfrgax"
      }
    },
    {
      "cell_type": "markdown",
      "source": [
        "## Make a copy of this notebook! Editing directly will not be saved."
      ],
      "metadata": {
        "id": "uO5kdZXALb6c"
      }
    },
    {
      "cell_type": "markdown",
      "source": [
        "Speaker-dependent classification is a problem that involves finding unique characteristics of an individual's voice. We will use pitch and mel-frequency cepstral coefficients to do so (MFCCs).\n",
        "\n",
        "We will use a simple K-nearest-neighbors (KNN) model, which labels a data point based on it's K-nearest-neighbors (calculated using distance formula)."
      ],
      "metadata": {
        "id": "eb0tzXIpLbnw"
      }
    },
    {
      "cell_type": "markdown",
      "metadata": {
        "id": "w5FGIpr63C6s"
      },
      "source": [
        "CMU Arctic Speaker Recognition Dataset: https://www.kaggle.com/datasets/mrgabrielblins/speaker-recognition-cmu-arctic?select=test_full.csv\n",
        "\n",
        "Additional MFCC resources/coding examples:\n",
        "1.   https://www.kaggle.com/code/ilyamich/mfcc-implementation-and-tutorial\n",
        "2.   https://musicinformationretrieval.com/mfcc.html"
      ]
    },
    {
      "cell_type": "markdown",
      "source": [
        "# *Setting Up: Downloading Data + Viewing Audio*"
      ],
      "metadata": {
        "id": "HvoWa_5GJTzt"
      }
    },
    {
      "cell_type": "code",
      "execution_count": null,
      "metadata": {
        "id": "hYUOpmx2Nh6v",
        "colab": {
          "base_uri": "https://localhost:8080/",
          "height": 339
        },
        "outputId": "7c0710c3-a1af-4eeb-9ff0-26dd705f194f"
      },
      "outputs": [
        {
          "output_type": "error",
          "ename": "MessageError",
          "evalue": "ignored",
          "traceback": [
            "\u001b[0;31m---------------------------------------------------------------------------\u001b[0m",
            "\u001b[0;31mMessageError\u001b[0m                              Traceback (most recent call last)",
            "\u001b[0;32m<ipython-input-2-d5df0069828e>\u001b[0m in \u001b[0;36m<cell line: 2>\u001b[0;34m()\u001b[0m\n\u001b[1;32m      1\u001b[0m \u001b[0;32mfrom\u001b[0m \u001b[0mgoogle\u001b[0m\u001b[0;34m.\u001b[0m\u001b[0mcolab\u001b[0m \u001b[0;32mimport\u001b[0m \u001b[0mdrive\u001b[0m\u001b[0;34m\u001b[0m\u001b[0;34m\u001b[0m\u001b[0m\n\u001b[0;32m----> 2\u001b[0;31m \u001b[0mdrive\u001b[0m\u001b[0;34m.\u001b[0m\u001b[0mmount\u001b[0m\u001b[0;34m(\u001b[0m\u001b[0;34m'/content/drive'\u001b[0m\u001b[0;34m)\u001b[0m\u001b[0;34m\u001b[0m\u001b[0;34m\u001b[0m\u001b[0m\n\u001b[0m",
            "\u001b[0;32m/usr/local/lib/python3.10/dist-packages/google/colab/drive.py\u001b[0m in \u001b[0;36mmount\u001b[0;34m(mountpoint, force_remount, timeout_ms, readonly)\u001b[0m\n\u001b[1;32m     98\u001b[0m \u001b[0;32mdef\u001b[0m \u001b[0mmount\u001b[0m\u001b[0;34m(\u001b[0m\u001b[0mmountpoint\u001b[0m\u001b[0;34m,\u001b[0m \u001b[0mforce_remount\u001b[0m\u001b[0;34m=\u001b[0m\u001b[0;32mFalse\u001b[0m\u001b[0;34m,\u001b[0m \u001b[0mtimeout_ms\u001b[0m\u001b[0;34m=\u001b[0m\u001b[0;36m120000\u001b[0m\u001b[0;34m,\u001b[0m \u001b[0mreadonly\u001b[0m\u001b[0;34m=\u001b[0m\u001b[0;32mFalse\u001b[0m\u001b[0;34m)\u001b[0m\u001b[0;34m:\u001b[0m\u001b[0;34m\u001b[0m\u001b[0;34m\u001b[0m\u001b[0m\n\u001b[1;32m     99\u001b[0m   \u001b[0;34m\"\"\"Mount your Google Drive at the specified mountpoint path.\"\"\"\u001b[0m\u001b[0;34m\u001b[0m\u001b[0;34m\u001b[0m\u001b[0m\n\u001b[0;32m--> 100\u001b[0;31m   return _mount(\n\u001b[0m\u001b[1;32m    101\u001b[0m       \u001b[0mmountpoint\u001b[0m\u001b[0;34m,\u001b[0m\u001b[0;34m\u001b[0m\u001b[0;34m\u001b[0m\u001b[0m\n\u001b[1;32m    102\u001b[0m       \u001b[0mforce_remount\u001b[0m\u001b[0;34m=\u001b[0m\u001b[0mforce_remount\u001b[0m\u001b[0;34m,\u001b[0m\u001b[0;34m\u001b[0m\u001b[0;34m\u001b[0m\u001b[0m\n",
            "\u001b[0;32m/usr/local/lib/python3.10/dist-packages/google/colab/drive.py\u001b[0m in \u001b[0;36m_mount\u001b[0;34m(mountpoint, force_remount, timeout_ms, ephemeral, readonly)\u001b[0m\n\u001b[1;32m    127\u001b[0m   )\n\u001b[1;32m    128\u001b[0m   \u001b[0;32mif\u001b[0m \u001b[0mephemeral\u001b[0m\u001b[0;34m:\u001b[0m\u001b[0;34m\u001b[0m\u001b[0;34m\u001b[0m\u001b[0m\n\u001b[0;32m--> 129\u001b[0;31m     _message.blocking_request(\n\u001b[0m\u001b[1;32m    130\u001b[0m         \u001b[0;34m'request_auth'\u001b[0m\u001b[0;34m,\u001b[0m \u001b[0mrequest\u001b[0m\u001b[0;34m=\u001b[0m\u001b[0;34m{\u001b[0m\u001b[0;34m'authType'\u001b[0m\u001b[0;34m:\u001b[0m \u001b[0;34m'dfs_ephemeral'\u001b[0m\u001b[0;34m}\u001b[0m\u001b[0;34m,\u001b[0m \u001b[0mtimeout_sec\u001b[0m\u001b[0;34m=\u001b[0m\u001b[0;32mNone\u001b[0m\u001b[0;34m\u001b[0m\u001b[0;34m\u001b[0m\u001b[0m\n\u001b[1;32m    131\u001b[0m     )\n",
            "\u001b[0;32m/usr/local/lib/python3.10/dist-packages/google/colab/_message.py\u001b[0m in \u001b[0;36mblocking_request\u001b[0;34m(request_type, request, timeout_sec, parent)\u001b[0m\n\u001b[1;32m    174\u001b[0m       \u001b[0mrequest_type\u001b[0m\u001b[0;34m,\u001b[0m \u001b[0mrequest\u001b[0m\u001b[0;34m,\u001b[0m \u001b[0mparent\u001b[0m\u001b[0;34m=\u001b[0m\u001b[0mparent\u001b[0m\u001b[0;34m,\u001b[0m \u001b[0mexpect_reply\u001b[0m\u001b[0;34m=\u001b[0m\u001b[0;32mTrue\u001b[0m\u001b[0;34m\u001b[0m\u001b[0;34m\u001b[0m\u001b[0m\n\u001b[1;32m    175\u001b[0m   )\n\u001b[0;32m--> 176\u001b[0;31m   \u001b[0;32mreturn\u001b[0m \u001b[0mread_reply_from_input\u001b[0m\u001b[0;34m(\u001b[0m\u001b[0mrequest_id\u001b[0m\u001b[0;34m,\u001b[0m \u001b[0mtimeout_sec\u001b[0m\u001b[0;34m)\u001b[0m\u001b[0;34m\u001b[0m\u001b[0;34m\u001b[0m\u001b[0m\n\u001b[0m",
            "\u001b[0;32m/usr/local/lib/python3.10/dist-packages/google/colab/_message.py\u001b[0m in \u001b[0;36mread_reply_from_input\u001b[0;34m(message_id, timeout_sec)\u001b[0m\n\u001b[1;32m    101\u001b[0m     ):\n\u001b[1;32m    102\u001b[0m       \u001b[0;32mif\u001b[0m \u001b[0;34m'error'\u001b[0m \u001b[0;32min\u001b[0m \u001b[0mreply\u001b[0m\u001b[0;34m:\u001b[0m\u001b[0;34m\u001b[0m\u001b[0;34m\u001b[0m\u001b[0m\n\u001b[0;32m--> 103\u001b[0;31m         \u001b[0;32mraise\u001b[0m \u001b[0mMessageError\u001b[0m\u001b[0;34m(\u001b[0m\u001b[0mreply\u001b[0m\u001b[0;34m[\u001b[0m\u001b[0;34m'error'\u001b[0m\u001b[0;34m]\u001b[0m\u001b[0;34m)\u001b[0m\u001b[0;34m\u001b[0m\u001b[0;34m\u001b[0m\u001b[0m\n\u001b[0m\u001b[1;32m    104\u001b[0m       \u001b[0;32mreturn\u001b[0m \u001b[0mreply\u001b[0m\u001b[0;34m.\u001b[0m\u001b[0mget\u001b[0m\u001b[0;34m(\u001b[0m\u001b[0;34m'data'\u001b[0m\u001b[0;34m,\u001b[0m \u001b[0;32mNone\u001b[0m\u001b[0;34m)\u001b[0m\u001b[0;34m\u001b[0m\u001b[0;34m\u001b[0m\u001b[0m\n\u001b[1;32m    105\u001b[0m \u001b[0;34m\u001b[0m\u001b[0m\n",
            "\u001b[0;31mMessageError\u001b[0m: Error: credential propagation was unsuccessful"
          ]
        }
      ],
      "source": [
        "from google.colab import drive\n",
        "drive.mount('/content/drive')"
      ]
    },
    {
      "cell_type": "markdown",
      "source": [
        "Create a Kaggle account if you haven't yet. Follow the steps in the link and cells below to upload the CMU Arctic Speaker Recognition Dataset: https://www.kaggle.com/general/371462\n",
        "\n",
        "\n",
        "Import everything in the cells below. Note: some of these imports will only be used for extensions."
      ],
      "metadata": {
        "id": "l15dQIysHBpT"
      }
    },
    {
      "cell_type": "code",
      "execution_count": null,
      "metadata": {
        "id": "GHSrAClbwtfL"
      },
      "outputs": [],
      "source": [
        "from google.colab import files\n",
        "files.upload()"
      ]
    },
    {
      "cell_type": "code",
      "execution_count": null,
      "metadata": {
        "id": "TozknJh7DzTw"
      },
      "outputs": [],
      "source": [
        "!pip install -q kaggle"
      ]
    },
    {
      "cell_type": "code",
      "execution_count": null,
      "metadata": {
        "id": "xxLcYNtvD5KK"
      },
      "outputs": [],
      "source": [
        "!mkdir -p ~/.kaggle\n",
        "!cp kaggle.json ~/.kaggle/\n",
        "!chmod 600 ~/.kaggle/kaggle.json"
      ]
    },
    {
      "cell_type": "code",
      "execution_count": null,
      "metadata": {
        "id": "fhLAVZBEEAfa"
      },
      "outputs": [],
      "source": [
        "!kaggle datasets download -d mrgabrielblins/speaker-recognition-cmu-arctic"
      ]
    },
    {
      "cell_type": "code",
      "execution_count": null,
      "metadata": {
        "id": "lhsy6aZcF3ZS"
      },
      "outputs": [],
      "source": [
        "from zipfile import ZipFile\n",
        "file_name = 'speaker-recognition-cmu-arctic.zip' #the file is your dataset's exact name\n",
        "with ZipFile(file_name, 'r') as zip:\n",
        "  zip.extractall()\n",
        "  print('Done')"
      ]
    },
    {
      "cell_type": "code",
      "execution_count": null,
      "metadata": {
        "id": "57AObmgIMU3p"
      },
      "outputs": [],
      "source": [
        "# librosa will be used for all pre-processing\n",
        "!pip install librosa\n",
        "\n",
        "# these are only needed for extensions\n",
        "!pip install pydub\n",
        "!apt-get -qq install -y sox\n",
        "!pip install sox"
      ]
    },
    {
      "cell_type": "code",
      "execution_count": null,
      "metadata": {
        "collapsed": true,
        "id": "_r3W50nPxR3d"
      },
      "outputs": [],
      "source": [
        "import os\n",
        "import numpy as np\n",
        "import scipy\n",
        "from scipy.io import wavfile\n",
        "import scipy.fftpack as fft\n",
        "from scipy.signal import get_window\n",
        "import IPython.display as ipd\n",
        "import pandas as pd\n",
        "import librosa\n",
        "import librosa.display\n",
        "import matplotlib.pyplot as plt\n",
        "import statistics\n",
        "from sklearn.preprocessing import normalize\n",
        "from sklearn.preprocessing import MinMaxScaler\n",
        "from sklearn.model_selection import train_test_split\n",
        "from sklearn.neighbors import KNeighborsRegressor\n",
        "from sklearn.metrics import mean_squared_error\n",
        "import math\n",
        "import sox\n",
        "from pydub import AudioSegment, effects"
      ]
    },
    {
      "cell_type": "code",
      "execution_count": null,
      "metadata": {
        "id": "-CZF2nY-xR3f"
      },
      "outputs": [],
      "source": [
        "# try loading a sample audio and listening to it\n",
        "TRAIN_PATH = '/content/train/'\n",
        "audio_file = 'aew/arctic_a0003.wav'\n",
        "ipd.Audio(TRAIN_PATH + audio_file)"
      ]
    },
    {
      "cell_type": "code",
      "execution_count": null,
      "metadata": {
        "id": "li3s2JT_xR3g",
        "scrolled": true
      },
      "outputs": [],
      "source": [
        "# some basic information like sample rate and audio duration\n",
        "audio, sample_rate = librosa.load(TRAIN_PATH+audio_file, sr=16000)\n",
        "print(\"Sample rate: {0}Hz\".format(sample_rate))\n",
        "print(\"Audio duration: {0}s\".format(len(audio) / sample_rate))"
      ]
    },
    {
      "cell_type": "markdown",
      "source": [
        "Normalizing the audio is tricky. Based on your dataset, try different normalization techniques.\n",
        "\n",
        "A simple one that works well for the CMU dataset is just scaling everything using the maximum value.\n",
        "\n",
        "In other cases, librosa.util.normalize() may work better. API: https://librosa.org/doc/main/generated/librosa.util.normalize.html"
      ],
      "metadata": {
        "id": "ZRYKNT7VIczp"
      }
    },
    {
      "cell_type": "code",
      "execution_count": null,
      "metadata": {
        "id": "ZIDxG0pE2O2U"
      },
      "outputs": [],
      "source": [
        "# normalize the audio\n",
        "def normalize_audio(audio):\n",
        "    # TODO\n",
        "    # hint: for the CMU Arctic dataset, just divide by the absolute max of the audio\n",
        "    audio = audio / np.max(np.abs(audio))\n",
        "    # END TODO\n",
        "    return audio\n",
        "\n",
        "    # OR use librosa:\n",
        "\n",
        "    # range = np.amax(audio) - np.amin(audio)\n",
        "    # audio_new = (audio-np.amin(audio))/range\n",
        "    # audio_new = audio_new*2-1\n",
        "    # return audio_new"
      ]
    },
    {
      "cell_type": "code",
      "execution_count": null,
      "metadata": {
        "id": "Xv9a3DTD2-dM"
      },
      "outputs": [],
      "source": [
        "# view the normalized audio\n",
        "audio = normalize_audio(audio)\n",
        "plt.figure(figsize=(15,4))\n",
        "plt.plot(np.linspace(0, len(audio) / sample_rate, num=len(audio)), audio)\n",
        "plt.grid(True)"
      ]
    },
    {
      "cell_type": "markdown",
      "metadata": {
        "id": "JUErz1fY7yTW"
      },
      "source": [
        "# *Preprocessing Data*\n",
        "\n",
        "Our model will use pitch and mel-frequency cepstral coefficients (MFCCs). Pitch is the same as what you typically think of—higher frequency is higher pitch, and vice-versa.\n",
        "\n",
        "MFCCs are determined based on a linear cosine transform of a log power spectrum on a non-linear scale of frequency. Empirically, they're used to describe the \"timber\" of a sound. (Check top of the notebook for more resources)\n",
        "\n",
        "![Mel-filter-banks-basis-functions-using-20-Mel-filters-in-the-filter-bank.png](data:image/png;base64,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)\n",
        "\n",
        "Notice the filters overlap one another, which makes the output smoother."
      ]
    },
    {
      "cell_type": "code",
      "execution_count": null,
      "metadata": {
        "id": "CAL1ft1fG6N1"
      },
      "outputs": [],
      "source": [
        "# we don't want to keep silence/unvoiced sounds: librosa's PYIN function automatically flags those and removes them\n",
        "# API for librosa.pyin(): https://librosa.org/doc/latest/generated/librosa.pyin.html\n",
        "def detect_pitch(y, sr=16000):\n",
        "  # TODO use librosa.pyin() for this\n",
        "  f0, voiced_flag, voiced_prob = librosa.pyin(y=y, sr=sr, fmin=75, fmax=1600, frame_length=2048)\n",
        "  # END TODO\n",
        "  return f0, voiced_flag, voiced_prob"
      ]
    },
    {
      "cell_type": "code",
      "execution_count": null,
      "metadata": {
        "id": "Gl-x-GsxYB1_"
      },
      "outputs": [],
      "source": [
        "def create_data(speaker, audio):\n",
        "\n",
        "  # TODO\n",
        "  # use the detect_pitch function (1-line)\n",
        "  fundamentals, is_voiced, prob_voiced = detect_pitch(audio)\n",
        "\n",
        "  # only keeped the voiced parts (1-line)\n",
        "  fundamentals = fundamentals[is_voiced]\n",
        "\n",
        "  # API for librosa.mfcc(): https://librosa.org/doc/main/generated/librosa.feature.mfcc.html\n",
        "  # you can experiment with the number of MFCCs, but start with 13\n",
        "  # Note: you need to use np.transpose() on mfccs so dimensions line up with pitch data\n",
        "  mfccs = np.transpose(librosa.feature.mfcc(y=audio, n_mfcc=13, sr=16000))\n",
        "  mfccs = mfccs[is_voiced]\n",
        "  d0 = {'speaker': [speaker]*len(fundamentals), 'pitch': fundamentals}\n",
        "  for i in range(len(mfccs[0])):\n",
        "    d0['mfcc_'+str(i)] = mfccs[:,i]\n",
        "\n",
        "  dataset = pd.DataFrame(data=d0)\n",
        "  return dataset"
      ]
    },
    {
      "cell_type": "code",
      "execution_count": null,
      "metadata": {
        "id": "o07e6c_daETG"
      },
      "outputs": [],
      "source": [
        "# main use is for creating training sets\n",
        "def create_dataset(speaker_list, n_files):\n",
        "  speaker_data = pd.DataFrame()\n",
        "  # create a for loop that iterates through the length of the speaker_list\n",
        "  # to get the list of audio files, use os.listdir(): https://www.geeksforgeeks.org/python-os-listdir-method/\n",
        "  for i in range(len(speaker_list)):\n",
        "    # path to the train set for each speaker\n",
        "    path = '/content/train/' + speaker_list[i] + '/'\n",
        "    list_of_files = os.listdir(path)\n",
        "    # only keep the first n files\n",
        "    list_of_files = list_of_files[0:n_files]\n",
        "\n",
        "    for filename in list_of_files:\n",
        "      audio, sample_rate = librosa.load(path + filename, sr=16000)\n",
        "      audio = normalize_audio(audio)\n",
        "      speaker_data = pd.concat([speaker_data, create_data(speaker_list[i], audio)])\n",
        "\n",
        "  speaker_data.reset_index(inplace=True)\n",
        "  column_names = list(speaker_data.columns)[2:]\n",
        "  # we need to scale the data if we're using the distance formula; otherwise, each dimension will be treated unequally\n",
        "  # use MinMaxScaler to scale between 0 and 1: https://scikit-learn.org/stable/modules/generated/sklearn.preprocessing.MinMaxScaler.html\n",
        "  scaler = MinMaxScaler(feature_range=(0,1))\n",
        "  scaled_data = scaler.fit_transform(speaker_data.iloc[:,2:])\n",
        "  scaled_data = pd.DataFrame(scaled_data, columns=column_names)\n",
        "  speaker_data = pd.concat([speaker_data.loc[:,'speaker'], scaled_data], axis=1)\n",
        "\n",
        "  return speaker_data"
      ]
    },
    {
      "cell_type": "code",
      "execution_count": null,
      "metadata": {
        "id": "fLBeSisvOv6X"
      },
      "outputs": [],
      "source": [
        "# general test dataset that takes the first n number of files in the csv for each speaker\n",
        "def create_test_dataset(speaker_list, n_files):\n",
        "  speaker_data = pd.DataFrame()\n",
        "  test_csv = pd.read_csv('/content/test_full.csv').iloc[:,1:]\n",
        "  for speaker in speaker_list:\n",
        "    speaker_files = test_csv[test_csv['speaker']==speaker]\n",
        "    speaker_files = speaker_files.iloc[:n_files]\n",
        "    speaker_files = speaker_files['file_path']\n",
        "    for _, filename in speaker_files.items():\n",
        "      audio, sample_rate = librosa.load('/content/'+filename, sr=16000)\n",
        "      audio = normalize_audio(audio)\n",
        "      speaker_data = pd.concat([speaker_data, create_data(speaker, audio)])\n",
        "\n",
        "  speaker_data.reset_index(inplace=True)\n",
        "  column_names = list(speaker_data.columns)[2:]\n",
        "  scaler = MinMaxScaler(feature_range=(0,1))\n",
        "  scaled_data = scaler.fit_transform(speaker_data.iloc[:,2:])\n",
        "  scaled_data = pd.DataFrame(scaled_data, columns=column_names)\n",
        "  speaker_data = pd.concat([speaker_data.loc[:,'speaker'], scaled_data], axis=1)\n",
        "\n",
        "  return speaker_data"
      ]
    },
    {
      "cell_type": "code",
      "source": [
        "# create your training and testing sets\n",
        "my_train_data = create_dataset(['aew', 'axb'], 10)\n",
        "my_test_data = create_test_dataset(['aew', 'axb'], 2)"
      ],
      "metadata": {
        "id": "MwZHHAGLOx9r"
      },
      "execution_count": null,
      "outputs": []
    },
    {
      "cell_type": "code",
      "execution_count": null,
      "metadata": {
        "id": "mz7yH2VTkpAw"
      },
      "outputs": [],
      "source": [
        "# save your data, repeat for test data\n",
        "from pathlib import Path\n",
        "filepath = Path('/content/drive/data/my_example_train_data.csv')\n",
        "filepath.parent.mkdir(parents=True, exist_ok=True)\n",
        "my_train_data.to_csv(filepath)\n",
        "\n",
        "filepath1 = Path('/content/drive/data/my_example_test_data.csv')\n",
        "filepath1.parent.mkdir(parents=True, exist_ok=True)\n",
        "my_test_data.to_csv(filepath1)"
      ]
    },
    {
      "cell_type": "markdown",
      "metadata": {
        "id": "5EJtmBSk1AJ6"
      },
      "source": [
        "# *Finding the K value for your KNN Model*\n",
        "\n",
        "You might not want to always use this K value. Example: If you have two speakers and your K-value is 2, the model will use the neighbor that chronologically comes first (however you ordered your dataset), adding bias."
      ]
    },
    {
      "cell_type": "code",
      "execution_count": null,
      "metadata": {
        "id": "lEZvTuUU1Eo1"
      },
      "outputs": [],
      "source": [
        "df = pd.read_csv('/content/drive/data/my_example_train_data.csv')\n",
        "X = df.iloc[:, 2:]\n",
        "speakers = {'aew': 0, 'axb': 1}\n",
        "y = df.iloc[:,1]\n",
        "y = y.replace(speakers)"
      ]
    },
    {
      "cell_type": "code",
      "execution_count": null,
      "metadata": {
        "id": "wM7ZSzer5MhP"
      },
      "outputs": [],
      "source": [
        "X_train, X_test, y_train, y_test = train_test_split(X, y, test_size=0.20, random_state=1)"
      ]
    },
    {
      "cell_type": "code",
      "execution_count": null,
      "metadata": {
        "id": "udPtlq6M5Nos"
      },
      "outputs": [],
      "source": [
        "# fit the test data for various K's\n",
        "Ks = 20\n",
        "mse = np.zeros((Ks-1))\n",
        "rmse = np.zeros((Ks-1))\n",
        "scores = np.zeros((Ks-1))\n",
        "for n in range(1, Ks):\n",
        "  # TODO\n",
        "  # Declare and train an KNN Regressor with n neighbor\n",
        "  knnRegress = KNeighborsRegressor(n_neighbors=n)\n",
        "  knnRegress.fit(X_train, y_train)\n",
        "  # Store the KNN predictions on X_test\n",
        "  yhat = knnRegress.predict(X_test)\n",
        "  # Calculate score\n",
        "  scores[n-1] = knnRegress.score(X_test, y_test)\n",
        "  print('k=', n, 'score=', scores[n-1])\n",
        "  # Calculate MSE and RMSE\n",
        "  mse[n-1] = (((yhat - y_test) ** 2).sum())/len(yhat)\n",
        "  rmse[n-1] = math.sqrt(mean_squared_error(y_test, yhat))\n",
        "  print('rmse: ', rmse[n-1])\n",
        "  # END TODO\n",
        "K = rmse.argmin()+1\n",
        "print('Lowest rmse and associated K: RMSEmin = ', rmse.min(), ' K = ', K)\n",
        "plt.scatter(np.arange(1,20,1),rmse)\n",
        "plt.show()"
      ]
    },
    {
      "cell_type": "markdown",
      "metadata": {
        "id": "76ySQbs4b_6_"
      },
      "source": [
        "# *Testing*"
      ]
    },
    {
      "cell_type": "code",
      "execution_count": null,
      "metadata": {
        "id": "5afFg7LtgOTP"
      },
      "outputs": [],
      "source": [
        "# compute the KNN algorithm for one data point\n",
        "def pred_file(test_row, training_frame, K):\n",
        "  temp = training_frame.iloc[:,1:]\n",
        "  test_row = test_row.iloc[1:]\n",
        "  dist = np.full((len(training_frame),2),0.0)\n",
        "  for n in range(1, len(training_frame)+1):\n",
        "    dist[n-1,0] = n\n",
        "    for col in temp:\n",
        "      dist[n-1,1] += (test_row[col]-temp[col][n-1])**2\n",
        "    dist[n-1,1] = math.sqrt(dist[n-1,1])\n",
        "  distSorted = dist[dist[:,1].argsort()]\n",
        "  predSpeaker = statistics.mode(training_frame['speaker'][distSorted[0:K,0]-1])\n",
        "  return predSpeaker"
      ]
    },
    {
      "cell_type": "code",
      "execution_count": null,
      "metadata": {
        "id": "Fruq75sHhVMV"
      },
      "outputs": [],
      "source": [
        "# make predictions for each data point in the test frame, then return those predictions as a list\n",
        "def pred_speaker(test_frame, training_frame, speaker, K, dummies):\n",
        "  tf = test_frame.loc[test_frame['speaker']==speaker]\n",
        "  tf = tf.iloc[:, 1:]\n",
        "  y = training_frame['speaker']\n",
        "  y = y.replace(dummies)\n",
        "  train_frame = pd.concat([y,training_frame.iloc[:,2:]],axis=1)\n",
        "  train_frame.rename(columns={train_frame.columns[0]: 'speaker'}, inplace=True)\n",
        "  predictions = []\n",
        "  for i in range(tf.shape[0]):\n",
        "    predictions.append(pred_file(tf.iloc[i], train_frame, K))\n",
        "  return predictions"
      ]
    },
    {
      "cell_type": "code",
      "execution_count": null,
      "metadata": {
        "id": "mVB8DgK-kE3w"
      },
      "outputs": [],
      "source": [
        "speakers = {'aew': 0, 'axb': 1}\n",
        "\n",
        "K = 3\n",
        "\n",
        "df = pd.read_csv('/content/drive/data/my_example_train_data.csv').iloc[:,1:]\n",
        "df2 = pd.read_csv('/content/drive/data/my_example_test_data.csv').iloc[:,1:]\n",
        "\n",
        "p = []\n",
        "for speaker in speakers:\n",
        "  p.append(pred_speaker(df2, df, speaker, K, speakers))\n",
        "  id = speakers[speaker]\n",
        "  print('Test for', speaker)\n",
        "  # print the percent of data points the KNN accurately labeled\n",
        "  print('Percentage correct:', p[id].count(id)/len(p[id])*100, \"%\")\n",
        "  # to see details\n",
        "  for s in speakers:\n",
        "    # for each speaker, which percent of the labels was classified as such?\n",
        "    print('\\tPercent classified as', s, ':', p[id].count(speakers[s])/len(p[id])*100, \"%\")\n",
        "  print('')"
      ]
    },
    {
      "cell_type": "markdown",
      "source": [
        "# *Extensions*\n",
        "\n",
        "Some ideas for extensions:\n",
        "\n",
        "1.   Mixing different speakers' voices for either training or testing data\n",
        "2.   Creating your own dataset using you and your classmates' voices\n",
        "3.   Using different test speakers than found in the train set\n",
        "\n",
        "Or come up with your own!\n",
        "\n",
        "Hints for extensions:\n",
        "\n",
        "For most extensions, you'll need to modify the create_dataset/create_train_dataset functions, as you may have files in your Google Drive instead of pulling from the Kaggle dataset. Additionally, the prediction functions/how you use them will need to be changed, as the test speakers won't perfectly align with the train speakers.\n",
        "\n",
        "***Mixing***\n",
        "\n",
        "Use the sox library. Check out the combiner function: https://pysox.readthedocs.io/en/latest/example.html\n",
        "\n",
        "Note: the example converts to stereo, but you don't need that, it will only take up more data, so just set n_channels to 1 for mono audio.\n",
        "\n",
        "***Creating your own dataset***\n",
        "\n",
        "Download an audio recording app that uses wav (iPhone's default app is m4a), or if you have your own quality microphones, even better! For normalizing, librosa.util.normalize() may work better, as the quality of the recordings will not be as good as the CMU Arctic dataset.\n",
        "\n",
        "If you process the final audio through a digital audio workspace (DAW) like Garageband, the file may be incompatible with Colab's environment. First, re-convert it to wav through an online wav converter. Then, since it might be stereo, it will stop your runtime by using too much RAM. You'll need to convert it to mono either with sox, pydub, or some other library. PyDub AudioSegment: https://stackoverflow.com/questions/5120555/how-can-i-convert-a-wav-from-stereo-to-mono-in-python"
      ],
      "metadata": {
        "id": "-QpfxrAjM9d1"
      }
    },
    {
      "cell_type": "markdown",
      "source": [
        "For most extensions, this extra function/some variation of it will be needed, which creates a specific dataset based on specific names of each file."
      ],
      "metadata": {
        "id": "p_lLC1SWN4Uj"
      }
    },
    {
      "cell_type": "code",
      "execution_count": null,
      "metadata": {
        "id": "2l8qqkacOWDV"
      },
      "outputs": [],
      "source": [
        "# creates a test dataset with specific files\n",
        "def create_specific_test_dataset(list_of_files, speaker_list, special_path=None):\n",
        "  speaker_data = pd.DataFrame()\n",
        "  for i in range(len(list_of_files)):\n",
        "    # using a special path, in case the files are in Google Drive, etc.\n",
        "    # otherwise assumes them to be in the CMU dataset\n",
        "    if special_path is None:\n",
        "      path = '/content/test/' + list_of_files[i]\n",
        "\n",
        "    else:\n",
        "      path = special_path + list_of_files[i]\n",
        "    audio, sample_rate = librosa.load(path, sr=16000)\n",
        "    audio = normalize_audio(audio)\n",
        "\n",
        "    speaker_data = pd.concat([speaker_data, create_data(speaker_list[i], audio)])\n",
        "\n",
        "  speaker_data.reset_index(inplace=True)\n",
        "  column_names = list(speaker_data.columns)[2:]\n",
        "  scaler = MinMaxScaler(feature_range=(0,1))\n",
        "  scaled_data = scaler.fit_transform(speaker_data.iloc[:,2:])\n",
        "  scaled_data = pd.DataFrame(scaled_data, columns=column_names)\n",
        "  speaker_data = pd.concat([speaker_data.loc[:,'speaker'], scaled_data], axis=1)\n",
        "\n",
        "  return speaker_data"
      ]
    },
    {
      "cell_type": "markdown",
      "source": [
        "## **Mixing Audio**"
      ],
      "metadata": {
        "id": "UKLKhSyFNA9Y"
      }
    },
    {
      "cell_type": "code",
      "source": [
        "# creating a dataset that includes mixed audio saved in Google Drive\n",
        "def create_dataset(speaker_list, conditions, n_files, mixed_files=10):\n",
        "  # conditions is a list with same length as speaker_list. 1 indicates mixed, 0 is not\n",
        "  speaker_data = pd.DataFrame()\n",
        "  for i in range(len(speaker_list)):\n",
        "    path = ''\n",
        "    if conditions[i] == 0:\n",
        "      path = '/content/train/' + speaker_list[i] + '/'\n",
        "    else:\n",
        "      # this path needs to be changed to where their mixed audio is stored\n",
        "      path = '/content/drive/Audio/data/' + speaker_list[i] + '/'\n",
        "    list_of_files = os.listdir(path)\n",
        "    if conditions[i] == 0:\n",
        "      list_of_files = list_of_files[0:n_files]\n",
        "    else:\n",
        "      list_of_files = list_of_files[0:mixed_files]\n",
        "\n",
        "    for filename in list_of_files:\n",
        "      audio, sample_rate = librosa.load(path + filename, sr=16000)\n",
        "      audio = normalize_audio(audio)\n",
        "      speaker_data = pd.concat([speaker_data, create_data(speaker_list[i], audio)])\n",
        "\n",
        "  speaker_data.reset_index(inplace=True)\n",
        "  column_names = list(speaker_data.columns)[2:]\n",
        "  scaler = MinMaxScaler(feature_range=(0,1))\n",
        "  scaled_data = scaler.fit_transform(speaker_data.iloc[:,2:])\n",
        "  scaled_data = pd.DataFrame(scaled_data, columns=column_names)\n",
        "  speaker_data = pd.concat([speaker_data.loc[:,'speaker'], scaled_data], axis=1)\n",
        "\n",
        "  return speaker_data"
      ],
      "metadata": {
        "id": "bw-CRuQ3NOS-"
      },
      "execution_count": null,
      "outputs": []
    },
    {
      "cell_type": "code",
      "execution_count": null,
      "metadata": {
        "id": "2AUS-EovNGyt"
      },
      "outputs": [],
      "source": [
        "# function to mix the audio\n",
        "def mix_audio(speaker_list, n_files, storage_path):\n",
        "  speaker_data = pd.DataFrame()\n",
        "  cbn = sox.Combiner()\n",
        "  cbn.convert(samplerate=16000, n_channels=1)\n",
        "  paths = []\n",
        "  lists_of_files = []\n",
        "  masterpath = '/content/train/'\n",
        "  for i in range(len(speaker_list)):\n",
        "    paths.append('/content/train/' + speaker_list[i] + '/')\n",
        "    lists_of_files.append(os.listdir(paths[i]))\n",
        "    masterpath += speaker_list[i]\n",
        "    if i < len(speaker_list)-1:\n",
        "      masterpath += '_'\n",
        "  final_list = set(lists_of_files[0])\n",
        "  for i in range(1, len(speaker_list)):\n",
        "    final_list = final_list.intersection(set(lists_of_files[i]))\n",
        "  final_list = list(final_list)[0:n_files]\n",
        "  masterpath += '/'\n",
        "  for n in range(n_files):\n",
        "    file_list = []\n",
        "    for j in range(len(paths)):\n",
        "      file_list.append(paths[j] + final_list[n])\n",
        "    cbn.build(file_list, storage_path + 'output'+str(n)+str(j)+'.wav', 'mix')"
      ]
    },
    {
      "cell_type": "markdown",
      "source": [
        "### **Train with Individuals, Test Mixed**"
      ],
      "metadata": {
        "id": "csYWZd190G77"
      }
    },
    {
      "cell_type": "code",
      "source": [
        "# code for testing\n",
        "dummies = {'aew': 0, 'axb': 1, 'ksp': 2, 'clb': 3, 'gka': 4, 'lnh': 5, 'jmk': 6, 'slp': 7}\n",
        "test_speakers = {'aewaxb': ['aew', 'axb'], 'kspclb': ['ksp', 'clb'], 'jmk': ['jmk'], 'slp': ['slp']}\n",
        "\n",
        "df = pd.read_csv('/content/drive/data/aew_axb_ksp_clb_gka_lnh_train.csv').iloc[:,1:]\n",
        "df2 = pd.read_csv('/content/drive/Audio/data/aewaxb_kspclb_jmk_slp_test.csv').iloc[:,1:]\n",
        "\n",
        "p = []\n",
        "speaker_num = 0\n",
        "for speaker in test_speakers:\n",
        "  p.append(pred_speaker(df2, df, speaker, K, dummies))\n",
        "  print('Test for', speaker)\n",
        "  correct = 0\n",
        "  for individual in test_speakers[speaker]:\n",
        "    correct += p[speaker_num].count(dummies[individual])\n",
        "  print('Percentage correct:', correct/len(p[speaker_num])*100, \"%\")\n",
        "  # to see details\n",
        "  for s in dummies:\n",
        "    print('\\tPercent classified as', s, ':', p[speaker_num].count(dummies[s])/len(p[speaker_num])*100, \"%\")\n",
        "  print('')\n",
        "  speaker_num += 1"
      ],
      "metadata": {
        "id": "KdXRIEDK0L88"
      },
      "execution_count": null,
      "outputs": []
    },
    {
      "cell_type": "markdown",
      "source": [
        "## **Creating your own dataset**\n",
        "The website I used for wav conversion from GarageBand into stereo files saved into drive (before turning into mono): https://cloudconvert.com/wav-converter"
      ],
      "metadata": {
        "id": "PokQnDlRZEDs"
      }
    },
    {
      "cell_type": "code",
      "source": [
        "# how to fix incompatible file types\n",
        "path = '/content/drive/Audio/data/fam/' # change this path to where the files are located\n",
        "list_of_files = os.listdir(path)\n",
        "for my_file in list_of_files:\n",
        "  sound = AudioSegment.from_wav(path + my_file)\n",
        "  sound = sound.set_channels(1)\n",
        "  sound.export(path + my_file, format=\"wav\")"
      ],
      "metadata": {
        "id": "p6BR2wXoZNvl"
      },
      "execution_count": null,
      "outputs": []
    }
  ],
  "metadata": {
    "colab": {
      "provenance": []
    },
    "gpuClass": "standard",
    "kernelspec": {
      "display_name": "Python 3",
      "name": "python3"
    },
    "language_info": {
      "name": "python"
    }
  },
  "nbformat": 4,
  "nbformat_minor": 0
}